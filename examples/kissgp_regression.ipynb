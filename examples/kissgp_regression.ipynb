{
 "cells": [
  {
   "cell_type": "code",
   "execution_count": 1,
   "metadata": {
    "collapsed": false
   },
   "outputs": [],
   "source": [
    "import math\n",
    "import torch\n",
    "import gpytorch\n",
    "from matplotlib import pyplot as plt\n",
    "\n",
    "%matplotlib inline\n",
    "%load_ext autoreload\n",
    "%autoreload 2"
   ]
  },
  {
   "cell_type": "code",
   "execution_count": 2,
   "metadata": {
    "collapsed": true
   },
   "outputs": [],
   "source": [
    "from torch.autograd import Variable\n",
    "train_x = Variable(torch.linspace(0, 1, 11))\n",
    "train_y = Variable(torch.sin(train_x.data * (2 * math.pi)) + torch.randn(train_x.size()) * 0.2)"
   ]
  },
  {
   "cell_type": "code",
   "execution_count": 3,
   "metadata": {
    "collapsed": true
   },
   "outputs": [],
   "source": [
    "from gpytorch.kernels import RBFKernel, GridInterpolationKernel\n",
    "from gpytorch.means import ConstantMean\n",
    "from gpytorch.likelihoods import GaussianLikelihood\n",
    "from gpytorch import ObservationModel\n",
    "from gpytorch.random_variables import GaussianRandomVariable\n",
    "from gpytorch.parameters import MLEParameterGroup, BoundedParameter"
   ]
  },
  {
   "cell_type": "code",
   "execution_count": 4,
   "metadata": {
    "collapsed": false
   },
   "outputs": [],
   "source": [
    "class ExactGPObservationModel(gpytorch.ObservationModel):\n",
    "    def __init__(self):\n",
    "        super(ExactGPObservationModel,self).__init__(GaussianLikelihood())\n",
    "        self.mean_module = ConstantMean()\n",
    "        covar_module = RBFKernel() \n",
    "        self.grid_covar_module = GridInterpolationKernel(covar_module, 50)\n",
    "        self.params = MLEParameterGroup(\n",
    "            #log_noise=BoundedParameter(torch.Tensor([0]),-5,5),\n",
    "            log_lengthscale=BoundedParameter(torch.Tensor([0]),-5,5),\n",
    "        )\n",
    "    \n",
    "    def forward(self,x):\n",
    "        mean_x = self.mean_module(x, constant=Variable(torch.Tensor([0])))\n",
    "        covar_x = self.grid_covar_module(x, log_lengthscale=self.params.log_lengthscale)\n",
    "        \n",
    "        latent_pred = GaussianRandomVariable(mean_x, covar_x)\n",
    "        return latent_pred, Variable(torch.Tensor([-3]))\n",
    "\n",
    "prior_observation_model = ExactGPObservationModel()"
   ]
  },
  {
   "cell_type": "code",
   "execution_count": 5,
   "metadata": {
    "collapsed": true
   },
   "outputs": [],
   "source": [
    "def plot_model_and_predictions(observation_model):\n",
    "    f, observed_ax = plt.subplots(1, 1, figsize=(4, 3))\n",
    "    test_x = Variable(torch.linspace(0, 1, 51))\n",
    "    observed_pred = observation_model(test_x)\n",
    "\n",
    "    def ax_plot(ax, rand_var, title):\n",
    "        lower, upper = rand_var.confidence_region()\n",
    "        ax.plot(train_x.data.numpy(), train_y.data.numpy(), 'k*')\n",
    "        ax.plot(test_x.data.numpy(), rand_var.mean().data.numpy(), 'b')\n",
    "        ax.fill_between(test_x.data.numpy(), lower.data.numpy(), upper.data.numpy(), alpha=0.5)\n",
    "        ax.set_ylim([-3, 3])\n",
    "        ax.legend(['Observed Data', 'Mean', 'Confidence'])\n",
    "        ax.set_title(title)\n",
    "    \n",
    "    ax_plot(observed_ax, observed_pred, 'Observed Values (Likelihood)')\n",
    "    \n",
    "    return f"
   ]
  },
  {
   "cell_type": "code",
   "execution_count": null,
   "metadata": {
    "collapsed": false
   },
   "outputs": [
    {
     "data": {
      "image/png": "[encoded data removed]",
      "text/plain": [
       "<matplotlib.figure.Figure at 0x7fd04405bd90>"
      ]
     },
     "metadata": {},
     "output_type": "display_data"
    }
   ],
   "source": [
    "fig = plot_model_and_predictions(prior_observation_model)"
   ]
  },
  {
   "cell_type": "code",
   "execution_count": null,
   "metadata": {
    "collapsed": false,
    "scrolled": false
   },
   "outputs": [
    {
     "name": "stdout",
     "output_type": "stream",
     "text": [
      "> /home/jgardner/gpytorch/gpytorch/inference/inference.py(46)run_()\n",
      "-> def log_likelihood_closure():\n",
      "(Pdb) inducing_points\n",
      "(Variable containing:\n",
      " 0.0000\n",
      " 0.1000\n",
      " 0.2000\n",
      " 0.3000\n",
      " 0.4000\n",
      " 0.5000\n",
      " 0.6000\n",
      " 0.7000\n",
      " 0.8000\n",
      " 0.9000\n",
      " 1.0000\n",
      "[torch.FloatTensor of size 11]\n",
      ",)\n",
      "(Pdb) output self.observation_model(*inducing_points)\n",
      "*** SyntaxError: invalid syntax (<stdin>, line 1)\n",
      "(Pdb) output = self.observation_model(*inducing_points)\n",
      "(Pdb) print output\n",
      "(Variable containing:\n",
      " 0\n",
      " 0\n",
      " 0\n",
      " 0\n",
      " 0\n",
      " 0\n",
      " 0\n",
      " 0\n",
      " 0\n",
      " 0\n",
      " 0\n",
      "[torch.FloatTensor of size 11]\n",
      ", <gpytorch.lazy.toeplitz_lazy_variable.ToeplitzLazyVariable object at 0x7fd040bcead0>)\n",
      "(Pdb) self.observation_model.marginal_log_likelihood(output, train_y)\n",
      "*** RuntimeError: expected a Variable argument, but got ToeplitzLazyVariable\n",
      "(Pdb) ExactGPMarginalLogLikelihood\n",
      "*** NameError: name 'ExactGPMarginalLogLikelihood' is not defined\n",
      "(Pdb) from gpytorch.functions.math import ExactGPMarginalLogLikelihood\n",
      "*** ImportError: No module named functions.math\n"
     ]
    }
   ],
   "source": [
    "from gpytorch.inference import Inference\n",
    "infer = Inference(prior_observation_model)\n",
    "posterior_observation_model = infer.run(train_x, train_y,max_inference_steps=2)"
   ]
  },
  {
   "cell_type": "code",
   "execution_count": null,
   "metadata": {
    "collapsed": false,
    "scrolled": false
   },
   "outputs": [],
   "source": [
    "fig = plot_model_and_predictions(posterior_observation_model)"
   ]
  },
  {
   "cell_type": "code",
   "execution_count": null,
   "metadata": {
    "collapsed": false
   },
   "outputs": [],
   "source": [
    "%debug"
   ]
  },
  {
   "cell_type": "code",
   "execution_count": null,
   "metadata": {
    "collapsed": true
   },
   "outputs": [],
   "source": []
  }
 ],
 "metadata": {
  "anaconda-cloud": {},
  "kernelspec": {
   "display_name": "Python 2",
   "language": "python",
   "name": "python2"
  },
  "language_info": {
   "codemirror_mode": {
    "name": "ipython",
    "version": 2
   },
   "file_extension": ".py",
   "mimetype": "text/x-python",
   "name": "python",
   "nbconvert_exporter": "python",
   "pygments_lexer": "ipython2",
   "version": "2.7.13"
  }
 },
 "nbformat": 4,
 "nbformat_minor": 1
}
